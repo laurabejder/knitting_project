{
 "cells": [
  {
   "cell_type": "markdown",
   "metadata": {},
   "source": [
    "# Data Analysis"
   ]
  },
  {
   "cell_type": "code",
   "execution_count": 1,
   "metadata": {},
   "outputs": [],
   "source": [
    "import requests\n",
    "from requests.adapters import HTTPAdapter\n",
    "import json\n",
    "\n",
    "import pandas as pd\n",
    "from datetime import date\n",
    "from bs4 import BeautifulSoup\n",
    "from playwright.async_api import async_playwright\n",
    "import time\n",
    "import numpy as np\n",
    "import re"
   ]
  },
  {
   "cell_type": "markdown",
   "metadata": {},
   "source": [
    "The first part of the analysis is to manually categorize all the recipes. After that is done, I get the following dataframe."
   ]
  },
  {
   "cell_type": "code",
   "execution_count": 2,
   "metadata": {},
   "outputs": [],
   "source": [
    "df = pd.read_csv(\"data/patterns_total_categorized.csv\")\n",
    "\n",
    "df['knocker'] = np.where(df['Category'] == 'knockers', 1, 0)"
   ]
  },
  {
   "cell_type": "code",
   "execution_count": 3,
   "metadata": {},
   "outputs": [
    {
     "data": {
      "text/html": [
       "<div>\n",
       "<style scoped>\n",
       "    .dataframe tbody tr th:only-of-type {\n",
       "        vertical-align: middle;\n",
       "    }\n",
       "\n",
       "    .dataframe tbody tr th {\n",
       "        vertical-align: top;\n",
       "    }\n",
       "\n",
       "    .dataframe thead th {\n",
       "        text-align: right;\n",
       "    }\n",
       "</style>\n",
       "<table border=\"1\" class=\"dataframe\">\n",
       "  <thead>\n",
       "    <tr style=\"text-align: right;\">\n",
       "      <th></th>\n",
       "      <th>knocker</th>\n",
       "      <th>project_numbers</th>\n",
       "    </tr>\n",
       "  </thead>\n",
       "  <tbody>\n",
       "    <tr>\n",
       "      <th>1</th>\n",
       "      <td>1</td>\n",
       "      <td>4744</td>\n",
       "    </tr>\n",
       "    <tr>\n",
       "      <th>0</th>\n",
       "      <td>0</td>\n",
       "      <td>991</td>\n",
       "    </tr>\n",
       "  </tbody>\n",
       "</table>\n",
       "</div>"
      ],
      "text/plain": [
       "   knocker  project_numbers\n",
       "1        1             4744\n",
       "0        0              991"
      ]
     },
     "execution_count": 3,
     "metadata": {},
     "output_type": "execute_result"
    }
   ],
   "source": [
    "knockers_true_false = df.groupby('knocker').agg({'project_numbers':'sum'}).reset_index().sort_values(by='project_numbers', ascending=False)\n",
    "knockers_true_false"
   ]
  },
  {
   "cell_type": "markdown",
   "metadata": {},
   "source": [
    "What is the most popular category?"
   ]
  },
  {
   "cell_type": "code",
   "execution_count": 4,
   "metadata": {},
   "outputs": [],
   "source": [
    "# Group the recipes by category and summarize the number of completed projects using that recipe\n",
    "categories = df.groupby('Category').agg({'project_numbers':'sum'}).reset_index().sort_values(by='project_numbers', ascending=False)\n",
    "categories.drop(categories[categories['Category'] == 'na'].index, inplace = True)\n",
    "\n",
    "categories = categories.head(5)"
   ]
  },
  {
   "cell_type": "code",
   "execution_count": 5,
   "metadata": {},
   "outputs": [],
   "source": [
    "categories.to_csv(\"data/categories.csv\", index=False)"
   ]
  },
  {
   "cell_type": "markdown",
   "metadata": {},
   "source": [
    "Are knockers most often knitted or croched?"
   ]
  },
  {
   "cell_type": "code",
   "execution_count": 6,
   "metadata": {},
   "outputs": [],
   "source": [
    "knockers = df[df['Category'] == 'knockers']\n",
    "knockers_grouped = knockers.groupby('craft_type').agg({'project_numbers':'sum'}).reset_index().sort_values(by='project_numbers', ascending=False)"
   ]
  },
  {
   "cell_type": "code",
   "execution_count": 7,
   "metadata": {},
   "outputs": [],
   "source": [
    "knockers_grouped['percent'] = knockers_grouped.project_numbers / knockers_grouped.project_numbers.sum() * 100\n",
    "knockers_grouped = knockers_grouped.round(0)"
   ]
  },
  {
   "cell_type": "code",
   "execution_count": 8,
   "metadata": {},
   "outputs": [],
   "source": [
    "knockers_grouped.to_csv(\"data/knockers_grouped.csv\", index=False)"
   ]
  },
  {
   "cell_type": "markdown",
   "metadata": {},
   "source": [
    "### Get the estimated price for a knocker\n",
    "\n",
    "Measured by the price of the yarn needed to complete the project. Due to the unorganized structure of Ravelry, it wasn't possible to scrape this information, so the data has been hand collected. A few of the recipes did not have a recommended yarn. They are coded as missing."
   ]
  },
  {
   "cell_type": "code",
   "execution_count": 9,
   "metadata": {},
   "outputs": [
    {
     "data": {
      "text/html": [
       "<div>\n",
       "<style scoped>\n",
       "    .dataframe tbody tr th:only-of-type {\n",
       "        vertical-align: middle;\n",
       "    }\n",
       "\n",
       "    .dataframe tbody tr th {\n",
       "        vertical-align: top;\n",
       "    }\n",
       "\n",
       "    .dataframe thead th {\n",
       "        text-align: right;\n",
       "    }\n",
       "</style>\n",
       "<table border=\"1\" class=\"dataframe\">\n",
       "  <thead>\n",
       "    <tr style=\"text-align: right;\">\n",
       "      <th></th>\n",
       "      <th>name</th>\n",
       "      <th>url</th>\n",
       "      <th>id</th>\n",
       "      <th>craft_type</th>\n",
       "      <th>project_numbers</th>\n",
       "      <th>Category</th>\n",
       "      <th>knocker</th>\n",
       "      <th>recipe_yardage_min</th>\n",
       "      <th>recipe_yardage_max</th>\n",
       "      <th>yarn</th>\n",
       "      <th>yarn_producer</th>\n",
       "      <th>price_usd</th>\n",
       "      <th>material</th>\n",
       "      <th>yarn_yards</th>\n",
       "      <th>yard_grams</th>\n",
       "      <th>wrench</th>\n",
       "      <th>knocker_price</th>\n",
       "    </tr>\n",
       "  </thead>\n",
       "  <tbody>\n",
       "    <tr>\n",
       "      <th>2</th>\n",
       "      <td>Breast Cancer Awareness Boobies by Melanie Gro...</td>\n",
       "      <td>https://www.ravelry.com/patterns/library/breas...</td>\n",
       "      <td>865422</td>\n",
       "      <td>Crochet</td>\n",
       "      <td>4</td>\n",
       "      <td>knockers</td>\n",
       "      <td>1</td>\n",
       "      <td>180</td>\n",
       "      <td>191</td>\n",
       "      <td>100% cotton double knit</td>\n",
       "      <td>MoYa</td>\n",
       "      <td>8.88</td>\n",
       "      <td>cotton</td>\n",
       "      <td>148</td>\n",
       "      <td>50</td>\n",
       "      <td>2.0</td>\n",
       "      <td>17.76</td>\n",
       "    </tr>\n",
       "    <tr>\n",
       "      <th>4</th>\n",
       "      <td>Breast Forms by Lisa Rode</td>\n",
       "      <td>https://www.ravelry.com/patterns/library/breas...</td>\n",
       "      <td>865397</td>\n",
       "      <td>Crochet</td>\n",
       "      <td>0</td>\n",
       "      <td>knockers</td>\n",
       "      <td>1</td>\n",
       "      <td>40</td>\n",
       "      <td>140</td>\n",
       "      <td>Simply Soft Solids</td>\n",
       "      <td>Caron</td>\n",
       "      <td>5.49</td>\n",
       "      <td>acrylic</td>\n",
       "      <td>315</td>\n",
       "      <td>170</td>\n",
       "      <td>1.0</td>\n",
       "      <td>5.49</td>\n",
       "    </tr>\n",
       "    <tr>\n",
       "      <th>5</th>\n",
       "      <td>Breast Prosthetic Round by Scarlett Royal</td>\n",
       "      <td>https://www.ravelry.com/patterns/library/breas...</td>\n",
       "      <td>1053583</td>\n",
       "      <td>Loom Knitting</td>\n",
       "      <td>0</td>\n",
       "      <td>knockers</td>\n",
       "      <td>1</td>\n",
       "      <td>90</td>\n",
       "      <td>110</td>\n",
       "      <td>Coboo</td>\n",
       "      <td>Lion Brand</td>\n",
       "      <td>5.99</td>\n",
       "      <td>cotton_bamboo</td>\n",
       "      <td>232</td>\n",
       "      <td>100</td>\n",
       "      <td>1.0</td>\n",
       "      <td>5.99</td>\n",
       "    </tr>\n",
       "    <tr>\n",
       "      <th>6</th>\n",
       "      <td>Bust Buddies by Eileen Adler</td>\n",
       "      <td>https://www.ravelry.com/patterns/library/bust-...</td>\n",
       "      <td>825548</td>\n",
       "      <td>Knitting</td>\n",
       "      <td>0</td>\n",
       "      <td>knockers</td>\n",
       "      <td>1</td>\n",
       "      <td>50</td>\n",
       "      <td>50</td>\n",
       "      <td>Ultra Pima</td>\n",
       "      <td>Cascade Yarns</td>\n",
       "      <td>13.50</td>\n",
       "      <td>pima</td>\n",
       "      <td>220</td>\n",
       "      <td>100</td>\n",
       "      <td>1.0</td>\n",
       "      <td>13.50</td>\n",
       "    </tr>\n",
       "    <tr>\n",
       "      <th>8</th>\n",
       "      <td>Crochet Breast by Denise Hayes</td>\n",
       "      <td>https://www.ravelry.com/patterns/library/croch...</td>\n",
       "      <td>663244</td>\n",
       "      <td>Crochet</td>\n",
       "      <td>0</td>\n",
       "      <td>knockers</td>\n",
       "      <td>1</td>\n",
       "      <td>137</td>\n",
       "      <td>164</td>\n",
       "      <td>Magic Light</td>\n",
       "      <td>Ice Yarns</td>\n",
       "      <td>7.99</td>\n",
       "      <td>acrylic</td>\n",
       "      <td>394</td>\n",
       "      <td>100</td>\n",
       "      <td>1.0</td>\n",
       "      <td>7.99</td>\n",
       "    </tr>\n",
       "  </tbody>\n",
       "</table>\n",
       "</div>"
      ],
      "text/plain": [
       "                                                name  \\\n",
       "2  Breast Cancer Awareness Boobies by Melanie Gro...   \n",
       "4                          Breast Forms by Lisa Rode   \n",
       "5          Breast Prosthetic Round by Scarlett Royal   \n",
       "6                       Bust Buddies by Eileen Adler   \n",
       "8                     Crochet Breast by Denise Hayes   \n",
       "\n",
       "                                                 url       id     craft_type  \\\n",
       "2  https://www.ravelry.com/patterns/library/breas...   865422        Crochet   \n",
       "4  https://www.ravelry.com/patterns/library/breas...   865397        Crochet   \n",
       "5  https://www.ravelry.com/patterns/library/breas...  1053583  Loom Knitting   \n",
       "6  https://www.ravelry.com/patterns/library/bust-...   825548       Knitting   \n",
       "8  https://www.ravelry.com/patterns/library/croch...   663244        Crochet   \n",
       "\n",
       "   project_numbers  Category  knocker  recipe_yardage_min  recipe_yardage_max  \\\n",
       "2                4  knockers        1                 180                 191   \n",
       "4                0  knockers        1                  40                 140   \n",
       "5                0  knockers        1                  90                 110   \n",
       "6                0  knockers        1                  50                  50   \n",
       "8                0  knockers        1                 137                 164   \n",
       "\n",
       "                      yarn  yarn_producer  price_usd       material  \\\n",
       "2  100% cotton double knit           MoYa       8.88         cotton   \n",
       "4       Simply Soft Solids          Caron       5.49        acrylic   \n",
       "5                    Coboo     Lion Brand       5.99  cotton_bamboo   \n",
       "6               Ultra Pima  Cascade Yarns      13.50           pima   \n",
       "8              Magic Light      Ice Yarns       7.99        acrylic   \n",
       "\n",
       "   yarn_yards  yard_grams  wrench  knocker_price  \n",
       "2         148          50     2.0          17.76  \n",
       "4         315         170     1.0           5.49  \n",
       "5         232         100     1.0           5.99  \n",
       "6         220         100     1.0          13.50  \n",
       "8         394         100     1.0           7.99  "
      ]
     },
     "execution_count": 9,
     "metadata": {},
     "output_type": "execute_result"
    }
   ],
   "source": [
    "yarn_df = pd.read_csv(\"data/knockers_yarn_details.csv\")\n",
    "yarn_df = yarn_df.replace('na',np.NaN)\n",
    "\n",
    "# Drop the recipes where some of the values are missing - they cannot be used in this calculation.\n",
    "yarn_df = yarn_df.dropna()\n",
    "\n",
    "#Figure out if you need one or two yarn wrenches\n",
    "# First change the numeric columns into the right format\n",
    "yarn_df['recipe_yardage_min'] = yarn_df['recipe_yardage_min'].astype(int)\n",
    "yarn_df['recipe_yardage_max'] = yarn_df['recipe_yardage_max'].astype(int)\n",
    "yarn_df['price_usd'] = yarn_df['price_usd'].astype(float)\n",
    "yarn_df['yarn_yards'] = yarn_df['yarn_yards'].astype(int)\n",
    "yarn_df['yard_grams'] = yarn_df['yard_grams'].astype(int)\n",
    "\n",
    "\n",
    "# If the result is larger than 1, you will need more than one yarn wrench for the average version of the recipe. \n",
    "yarn_df['wrench'] = (yarn_df['recipe_yardage_min'] / yarn_df['recipe_yardage_max'] * 2) / yarn_df['yarn_yards'] * 100\n",
    "\n",
    "yarn_df.loc[yarn_df['wrench'] > 1, 'wrench'] = 2\n",
    "yarn_df.loc[yarn_df['wrench'] <= 1, 'wrench'] = 1\n",
    "\n",
    "# And finally calculate the price of a knitted knocker\n",
    "yarn_df['knocker_price'] = yarn_df['price_usd'] * yarn_df['wrench']\n",
    "yarn_df.head(5)"
   ]
  },
  {
   "cell_type": "markdown",
   "metadata": {},
   "source": [
    "### Comparing prices\n",
    "Create a new dataframe containing name and price of both the knitted knockers and conventional breast prosteses. \n",
    "\n",
    "First I reduce the df above, then I read in another dataset (the conventional breast prosteses) and then I merge the two dataframes."
   ]
  },
  {
   "cell_type": "code",
   "execution_count": 10,
   "metadata": {},
   "outputs": [],
   "source": [
    "knocker = yarn_df[['name','Category','knocker_price']]\n",
    "\n",
    "# Rename the columns to match the other dataframe\n",
    "knocker = knocker.rename(columns={'Category':'type','knocker_price':'price'})"
   ]
  },
  {
   "cell_type": "code",
   "execution_count": 11,
   "metadata": {},
   "outputs": [],
   "source": [
    "# Load in the conventional prosthesis data\n",
    "prosthesis = pd.read_csv(\"data/prosthesis_info.csv\")\n",
    "prosthesis = prosthesis.drop('retailer', axis=1)"
   ]
  },
  {
   "cell_type": "code",
   "execution_count": 12,
   "metadata": {},
   "outputs": [],
   "source": [
    "# Concatenate the two dataframes\n",
    "comparison = pd.concat([knocker, prosthesis], ignore_index=True, axis=0)\n",
    "comparison = comparison.dropna()\n",
    "comparison.to_csv(\"data/comparison.csv\", index=False)"
   ]
  }
 ],
 "metadata": {
  "kernelspec": {
   "display_name": "Python 3.11.0rc2 64-bit ('3.11.0rc2')",
   "language": "python",
   "name": "python3"
  },
  "language_info": {
   "codemirror_mode": {
    "name": "ipython",
    "version": 3
   },
   "file_extension": ".py",
   "mimetype": "text/x-python",
   "name": "python",
   "nbconvert_exporter": "python",
   "pygments_lexer": "ipython3",
   "version": "3.11.0"
  },
  "orig_nbformat": 4,
  "vscode": {
   "interpreter": {
    "hash": "fa07e5dff76123542c28abca75c0e47ea742948dbeeb360ccfbd2a5c7c277f8b"
   }
  }
 },
 "nbformat": 4,
 "nbformat_minor": 2
}
