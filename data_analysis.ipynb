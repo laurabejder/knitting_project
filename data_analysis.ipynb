{
 "cells": [
  {
   "cell_type": "markdown",
   "metadata": {},
   "source": [
    "# Data Analysis\n",
    "\n",
    "In this notebook I analyse the data gathered in `data_collection.ipynb`. I will be using the `pandas` library to do this.\n",
    "\n",
    "This notebook also includes elements of manual data collection. This will be described in the relevant sections."
   ]
  },
  {
   "cell_type": "code",
   "execution_count": null,
   "metadata": {},
   "outputs": [],
   "source": [
    "import requests\n",
    "from requests.adapters import HTTPAdapter\n",
    "import json\n",
    "\n",
    "import pandas as pd\n",
    "from datetime import date\n",
    "from bs4 import BeautifulSoup\n",
    "from playwright.async_api import async_playwright\n",
    "import time\n",
    "import numpy as np\n",
    "import re"
   ]
  },
  {
   "cell_type": "markdown",
   "metadata": {},
   "source": [
    "The first part of the analysis is to manually categorize all the recipes. After that is done, I get the following dataframe."
   ]
  },
  {
   "cell_type": "code",
   "execution_count": null,
   "metadata": {},
   "outputs": [],
   "source": [
    "df = pd.read_csv(\"data/patterns_total_categorized.csv\")\n",
    "\n",
    "df['knocker'] = np.where(df['Category'] == 'knockers', 1, 0)"
   ]
  },
  {
   "cell_type": "code",
   "execution_count": null,
   "metadata": {},
   "outputs": [],
   "source": [
    "knockers_true_false = df.groupby('knocker').agg({'project_numbers':'sum'}).reset_index().sort_values(by='project_numbers', ascending=False)\n",
    "knockers_true_false"
   ]
  },
  {
   "cell_type": "markdown",
   "metadata": {},
   "source": [
    "What is the most popular category?"
   ]
  },
  {
   "cell_type": "code",
   "execution_count": null,
   "metadata": {},
   "outputs": [],
   "source": [
    "# Group the recipes by category and summarize the number of completed projects using that recipe\n",
    "categories = df.groupby('Category').agg({'project_numbers':'sum'}).reset_index().sort_values(by='project_numbers', ascending=False)\n",
    "categories.drop(categories[categories['Category'] == 'na'].index, inplace = True)\n",
    "\n",
    "categories "
   ]
  },
  {
   "cell_type": "code",
   "execution_count": null,
   "metadata": {},
   "outputs": [],
   "source": [
    "top_categories = categories.head(5)"
   ]
  },
  {
   "cell_type": "code",
   "execution_count": null,
   "metadata": {},
   "outputs": [],
   "source": [
    "top_categories.to_csv(\"data/categories.csv\", index=False)"
   ]
  },
  {
   "cell_type": "code",
   "execution_count": null,
   "metadata": {},
   "outputs": [],
   "source": [
    "categories['category_simple'] = categories['Category']\n",
    "\n",
    "categories.loc[categories['project_numbers'] < 50, 'category_simple'] = \"Other\"\n",
    "\n",
    "categories"
   ]
  },
  {
   "cell_type": "code",
   "execution_count": null,
   "metadata": {},
   "outputs": [],
   "source": [
    "categories.to_csv(\"data/treemap.csv\", index=False)"
   ]
  },
  {
   "cell_type": "code",
   "execution_count": null,
   "metadata": {},
   "outputs": [],
   "source": [
    "categories_simple = categories.groupby('category_simple').agg({'project_numbers':'sum'}).reset_index().sort_values(by='project_numbers', ascending=False)\n",
    "categories_simple['percent'] = (categories_simple['project_numbers'] / categories_simple['project_numbers'].sum()) * 100\n",
    "\n",
    "categories_simple = categories_simple.round(0)\n",
    "categories_simple"
   ]
  },
  {
   "cell_type": "markdown",
   "metadata": {},
   "source": [
    "Are knockers most often knitted or croched?"
   ]
  },
  {
   "cell_type": "code",
   "execution_count": null,
   "metadata": {},
   "outputs": [],
   "source": [
    "knockers = df[df['Category'] == 'knockers']\n",
    "knockers_grouped = knockers.groupby('craft_type').agg({'project_numbers':'sum'}).reset_index().sort_values(by='project_numbers', ascending=False)"
   ]
  },
  {
   "cell_type": "code",
   "execution_count": null,
   "metadata": {},
   "outputs": [],
   "source": [
    "knockers_grouped['percent'] = knockers_grouped.project_numbers / knockers_grouped.project_numbers.sum() * 100\n",
    "knockers_grouped = knockers_grouped.round(0)"
   ]
  },
  {
   "cell_type": "code",
   "execution_count": null,
   "metadata": {},
   "outputs": [],
   "source": [
    "knockers_grouped.to_csv(\"data/knockers_grouped.csv\", index=False)"
   ]
  },
  {
   "cell_type": "markdown",
   "metadata": {},
   "source": [
    "### Get the estimated price for a knocker\n",
    "\n",
    "Measured by the price of the yarn needed to complete the project. Due to the unorganized structure of Ravelry, it wasn't possible to scrape this information, so the data has been hand collected. A few of the recipes did not have a recommended yarn. They are coded as missing."
   ]
  },
  {
   "cell_type": "code",
   "execution_count": null,
   "metadata": {},
   "outputs": [],
   "source": [
    "yarn_df = pd.read_csv(\"data/knockers_yarn_details.csv\")\n",
    "yarn_df = yarn_df.replace('na',np.NaN)\n",
    "\n",
    "# Drop the recipes where some of the values are missing - they cannot be used in this calculation.\n",
    "yarn_df = yarn_df.dropna()\n",
    "\n",
    "#Figure out if you need one or two yarn wrenches\n",
    "# First change the numeric columns into the right format\n",
    "yarn_df['recipe_yardage_min'] = yarn_df['recipe_yardage_min'].astype(int)\n",
    "yarn_df['recipe_yardage_max'] = yarn_df['recipe_yardage_max'].astype(int)\n",
    "yarn_df['price_usd'] = yarn_df['price_usd'].astype(float)\n",
    "yarn_df['yarn_yards'] = yarn_df['yarn_yards'].astype(int)\n",
    "yarn_df['yard_grams'] = yarn_df['yard_grams'].astype(int)\n",
    "\n",
    "\n",
    "# If the result is larger than 1, you will need more than one yarn wrench for the average version of the recipe. \n",
    "yarn_df['wrench'] = (yarn_df['recipe_yardage_min'] / yarn_df['recipe_yardage_max'] * 2) / yarn_df['yarn_yards'] * 100\n",
    "\n",
    "yarn_df.loc[yarn_df['wrench'] > 1, 'wrench'] = 2\n",
    "yarn_df.loc[yarn_df['wrench'] <= 1, 'wrench'] = 1\n",
    "\n",
    "# And finally calculate the price of a knitted knocker\n",
    "yarn_df['knocker_price'] = yarn_df['price_usd'] * yarn_df['wrench']\n",
    "yarn_df.head(50)"
   ]
  },
  {
   "cell_type": "markdown",
   "metadata": {},
   "source": [
    "### Comparing prices\n",
    "Create a new dataframe containing name and price of both the knitted knockers and conventional breast prosteses. \n",
    "\n",
    "First I reduce the df above, then I read in another dataset (the conventional breast prosteses) and then I merge the two dataframes."
   ]
  },
  {
   "cell_type": "code",
   "execution_count": null,
   "metadata": {},
   "outputs": [],
   "source": [
    "knocker = yarn_df[['name','Category','knocker_price']]\n",
    "\n",
    "# Rename the columns to match the other dataframe\n",
    "knocker = knocker.rename(columns={'Category':'type','knocker_price':'price'})"
   ]
  },
  {
   "cell_type": "code",
   "execution_count": null,
   "metadata": {},
   "outputs": [],
   "source": [
    "# Load in the conventional prosthesis data\n",
    "prosthesis = pd.read_csv(\"data/prosthesis_info.csv\")\n",
    "prosthesis = prosthesis.drop('retailer', axis=1)"
   ]
  },
  {
   "cell_type": "code",
   "execution_count": null,
   "metadata": {},
   "outputs": [],
   "source": [
    "# Concatenate the two dataframes\n",
    "comparison = pd.concat([knocker, prosthesis], ignore_index=True, axis=0)\n",
    "comparison = comparison.dropna()\n",
    "comparison.to_csv(\"data/comparison.csv\", index=False)"
   ]
  }
 ],
 "metadata": {
  "kernelspec": {
   "display_name": "Python 3.11.0rc2 64-bit ('3.11.0rc2')",
   "language": "python",
   "name": "python3"
  },
  "language_info": {
   "codemirror_mode": {
    "name": "ipython",
    "version": 3
   },
   "file_extension": ".py",
   "mimetype": "text/x-python",
   "name": "python",
   "nbconvert_exporter": "python",
   "pygments_lexer": "ipython3",
   "version": "3.11.0rc2"
  },
  "orig_nbformat": 4,
  "vscode": {
   "interpreter": {
    "hash": "fa07e5dff76123542c28abca75c0e47ea742948dbeeb360ccfbd2a5c7c277f8b"
   }
  }
 },
 "nbformat": 4,
 "nbformat_minor": 2
}
