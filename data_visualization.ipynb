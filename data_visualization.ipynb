{
 "cells": [
  {
   "cell_type": "markdown",
   "metadata": {},
   "source": [
    "# Data visualization\n",
    "\n",
    "In this notebook I create two ggplot graphs that are used in the article [\"Medical Knitting: How Breast Cancer Survivors Handle Mastectomies One Knitted Knocker at a Time\"](https://laurabejder.com/knitting/).\n",
    "\n",
    "The first one is a bar chart visualizing the most common types of cancer among women in America. The second is a linerange chart showing the price ranges of three types of breast prostheses.\n",
    "\n",
    "The third visualization in the article was created using [rawgraphs.io](https://rawgraphs.io/)."
   ]
  },
  {
   "cell_type": "code",
   "execution_count": null,
   "metadata": {},
   "outputs": [],
   "source": [
    "%load_ext rpy2.ipython\n",
    "%load_ext autoreload\n",
    "%autoreload 2\n",
    "\n",
    "%matplotlib inline  \n",
    "from matplotlib import rcParams\n",
    "rcParams['figure.figsize'] = (16, 100)\n",
    "\n",
    "import warnings\n",
    "from rpy2.rinterface import RRuntimeWarning\n",
    "warnings.filterwarnings(\"ignore\") # Ignore all warnings\n",
    "# warnings.filterwarnings(\"ignore\", category=RRuntimeWarning) # Show some warnings\n",
    "\n",
    "import pandas as pd\n",
    "import numpy as np\n",
    "import matplotlib.pyplot as plt\n",
    "from IPython.display import display, HTML\n",
    "pd.set_option('display.max_columns', None)"
   ]
  },
  {
   "cell_type": "code",
   "execution_count": null,
   "metadata": {},
   "outputs": [],
   "source": [
    "%%javascript\n",
    "// Disable auto-scrolling\n",
    "IPython.OutputArea.prototype._should_scroll = function(lines) {\n",
    "    return false;\n",
    "}"
   ]
  },
  {
   "cell_type": "code",
   "execution_count": null,
   "metadata": {},
   "outputs": [],
   "source": [
    "%%R\n",
    "\n",
    "require('ggplot2')\n",
    "require('readr')\n",
    "require('extrafont')\n",
    "require('dplyr')\n",
    "require('reshape2')\n",
    "require('tidyverse')"
   ]
  },
  {
   "cell_type": "markdown",
   "metadata": {},
   "source": [
    "### Bar chart\n",
    "This code creates a bar chart. The chart was edited in illustrator afterwards. The size of the chart can be tweaked to match different screen sizes."
   ]
  },
  {
   "cell_type": "code",
   "execution_count": null,
   "metadata": {},
   "outputs": [],
   "source": [
    "%%R -h 500 -w 700\n",
    "\n",
    "df <- read_csv('data/cancer_stats.csv')\n",
    "\n",
    "ggplot(df, aes(y = reorder(`Cancer Type`, `Age-Adjusted Rate`), x = `Age-Adjusted Rate`)) + \n",
    "    geom_bar(stat = 'identity') +\n",
    "    geom_text(aes(label=`Age-Adjusted Rate`), hjust=1.3, color=\"white\", size=3.5) +\n",
    "    theme_minimal() +\n",
    "    labs(x = \"Frequency\", y = NULL ,\n",
    "       title = \"Breast Cancer is the most common type of cancer among American Women\",\n",
    "       subtitle = \"fjdksjfkdsjlk\",\n",
    "       caption = \"Data: CDC Cancer Statistics\")  +\n",
    "    theme(axis.title.x = element_text(vjust = 0, size = 14),\n",
    "        axis.text = element_text(size = 12),\n",
    "        axis.text.x = element_text(size = 12),\n",
    "        plot.title = element_text(size = 16, face = \"bold\"),\n",
    "        plot.subtitle = element_text(size = 14),\n",
    "        plot.caption = element_text(hjust = 0),\n",
    "        plot.title.position = \"plot\",\n",
    "        plot.caption.position = \"plot\",\n",
    "        panel.grid.major = element_blank(),\n",
    "        panel.grid.minor = element_blank())"
   ]
  },
  {
   "cell_type": "code",
   "execution_count": null,
   "metadata": {},
   "outputs": [],
   "source": [
    "%%R\n",
    "\n",
    "ggsave(\"visuals/cancer.pdf\", dpi = 300)"
   ]
  },
  {
   "cell_type": "markdown",
   "metadata": {},
   "source": [
    "### Linerange chart\n",
    "This code creates a linerange chart. The chart was edited in illustrator afterwards. The size of the chart can be tweaked to match different screen sizes."
   ]
  },
  {
   "cell_type": "code",
   "execution_count": null,
   "metadata": {},
   "outputs": [],
   "source": [
    "%%R -w 481 -h 250\n",
    "\n",
    "data <- tibble::tribble(~type, ~min, ~max,\n",
    "                        \"Knocker\", 4, 17.76,\n",
    "                        \"Non-silicone\", 50,  100,\n",
    "                        \"Silicone\", 100,  500\n",
    "                        )\n",
    "data$type <- fct_reorder(data$type, data$min, .desc = TRUE)\n",
    "\n",
    "data %>%\n",
    "  ggplot(aes(x = type)) +\n",
    "  geom_linerange(aes(ymin = min, ymax = max, x = type),\n",
    "                 size = 3, alpha = 0.25) +\n",
    "  geom_point(aes(y = min), colour = \"#DD1C77\", size = 4) +\n",
    "  geom_point(aes(y = max), colour = \"#980043\", size = 4) +\n",
    "  coord_flip() +\n",
    "  scale_y_continuous(labels = scales::dollar_format()) +\n",
    "  labs(x = NULL, y = NULL ,\n",
    "       title = \"Knitted Knockers is a cheeper alternative to conventional breast Prostheses\",\n",
    "       subtitle = \"Price span of knitted knockers, non-silicone prostheses and silicone prosteses.\",\n",
    "       caption = \"Data: Ravelry and breastcancer.org\")  +\n",
    "  theme_minimal(base_size = 16) +\n",
    "  theme(axis.title.x = element_text(vjust = 0, size = 14),\n",
    "        axis.text = element_text(size = 12),\n",
    "        axis.text.x = element_text(size = 12),\n",
    "        plot.title = element_text(size = 16, face = \"bold\"),\n",
    "        plot.subtitle = element_text(size = 14),\n",
    "        plot.caption = element_text(hjust = 0),\n",
    "        plot.title.position = \"plot\",\n",
    "        plot.caption.position = \"plot\",\n",
    "        panel.grid.major = element_blank(),\n",
    "        panel.grid.minor = element_blank())"
   ]
  },
  {
   "cell_type": "code",
   "execution_count": null,
   "metadata": {},
   "outputs": [],
   "source": [
    "%%R\n",
    "\n",
    "ggsave(\"visuals/prices3.pdf\", dpi = 300)"
   ]
  },
  {
   "cell_type": "markdown",
   "metadata": {},
   "source": [
    "### Unused bar chart\n",
    "This chart is a bar chart version of the bubble chart that I ended up using in the article. I'm keeping it here for reference."
   ]
  },
  {
   "cell_type": "code",
   "execution_count": null,
   "metadata": {},
   "outputs": [],
   "source": [
    "%%R -h 500 -w 700\n",
    "\n",
    "df <- read_csv('data/categories.csv')\n",
    "\n",
    "ggplot(df, aes(y = reorder(Category, project_numbers), x = project_numbers)) + \n",
    "    geom_bar(stat = 'identity') +\n",
    "    geom_text(aes(label=project_numbers), hjust=1.1, color=\"white\", size=3.5) +\n",
    "    theme_minimal() +\n",
    "    labs(x = \"Number of projects\", y = NULL ,\n",
    "       title = \"Title\",\n",
    "       subtitle = \"Subtitle\",\n",
    "       caption = \"Data: Ravelry\")  +\n",
    "    theme(axis.title.x = element_text(vjust = 0, size = 14),\n",
    "        axis.text = element_text(size = 12),\n",
    "        axis.text.x = element_text(size = 12),\n",
    "        plot.title = element_text(size = 16, face = \"bold\"),\n",
    "        plot.subtitle = element_text(size = 14),\n",
    "        plot.caption = element_text(hjust = 0),\n",
    "        plot.title.position = \"plot\",\n",
    "        plot.caption.position = \"plot\")"
   ]
  }
 ],
 "metadata": {
  "kernelspec": {
   "display_name": "Python 3.11.0rc2 64-bit ('3.11.0rc2')",
   "language": "python",
   "name": "python3"
  },
  "language_info": {
   "codemirror_mode": {
    "name": "ipython",
    "version": 3
   },
   "file_extension": ".py",
   "mimetype": "text/x-python",
   "name": "python",
   "nbconvert_exporter": "python",
   "pygments_lexer": "ipython3",
   "version": "3.11.0rc2"
  },
  "orig_nbformat": 4,
  "vscode": {
   "interpreter": {
    "hash": "fa07e5dff76123542c28abca75c0e47ea742948dbeeb360ccfbd2a5c7c277f8b"
   }
  }
 },
 "nbformat": 4,
 "nbformat_minor": 2
}
