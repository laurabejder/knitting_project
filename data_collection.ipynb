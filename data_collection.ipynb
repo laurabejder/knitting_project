{
 "cells": [
  {
   "cell_type": "markdown",
   "metadata": {},
   "source": [
    "## PURPOSE OF THE NOTEBOOK + TITLE OF THE PROJECT"
   ]
  },
  {
   "cell_type": "code",
   "execution_count": null,
   "metadata": {},
   "outputs": [],
   "source": [
    "import requests\n",
    "from requests.adapters import HTTPAdapter\n",
    "import json\n",
    "\n",
    "import pandas as pd\n",
    "from datetime import date\n",
    "from bs4 import BeautifulSoup\n",
    "from playwright.async_api import async_playwright\n",
    "import time\n",
    "import numpy as np\n",
    "import re"
   ]
  },
  {
   "cell_type": "markdown",
   "metadata": {},
   "source": []
  },
  {
   "cell_type": "code",
   "execution_count": null,
   "metadata": {},
   "outputs": [],
   "source": [
    "links = ['https://www.ravelry.com/patterns/search#pc=medical&sort=name&view=captioned_thumbs&page=1','https://www.ravelry.com/patterns/search#pc=medical&sort=name&view=captioned_thumbs&page=2','https://www.ravelry.com/patterns/search#pc=medical&sort=name&view=captioned_thumbs&page=3','https://www.ravelry.com/patterns/search#pc=medical&sort=name&view=captioned_thumbs&page=4']"
   ]
  },
  {
   "cell_type": "markdown",
   "metadata": {},
   "source": [
    "### Get the ID's of all the recipes in the medical knitting recipe category"
   ]
  },
  {
   "cell_type": "code",
   "execution_count": null,
   "metadata": {},
   "outputs": [],
   "source": [
    "playwright = await async_playwright().start()\n",
    "browser = await playwright.chromium.launch(headless = False)\n",
    "page = await browser.new_page()\n",
    "\n",
    "url = links[0]\n",
    "await page.goto(url)\n",
    "\n",
    "# Use playwright to login to the site. The xxxxx replace the username and password:\n",
    "await page.locator(\"#user_login\").fill('xxxxx')\n",
    "await page.locator(\"#user_password\").fill('xxxxx')\n",
    "await page.locator(\"#login_form > div.splash_page__submit > div.splash_page__submit__login > button\").click()\n",
    "\n",
    "time.sleep(5)\n",
    "\n",
    "pattern_ids = []\n",
    "\n",
    "# Scrape each of the four pages:\n",
    "for link in links:\n",
    "    await page.goto(link)\n",
    "    time.sleep(5)\n",
    "    html = await page.content()\n",
    "    doc = BeautifulSoup(html)\n",
    "\n",
    "    content_card = doc.find_all(class_= \"pattern captioned_pattern captioned_search_result\")\n",
    "\n",
    "    pattern_id = []\n",
    "\n",
    "    # Loop through each pattern on the page and get the information:\n",
    "    for card in content_card:\n",
    "        pattern = {}\n",
    "        pattern['name'] = card.find('a').get('title')\n",
    "        pattern['url'] = card.find('a').get('href')\n",
    "\n",
    "        find_id = card.get('id')\n",
    "        pattern['id'] = re.findall(r'\\d+', find_id)[0]\n",
    "\n",
    "        # And append the pattern data to the list:\n",
    "        pattern_id.append(pattern)\n",
    "    pattern_ids.append(pattern_id)"
   ]
  },
  {
   "cell_type": "markdown",
   "metadata": {},
   "source": [
    "### And take the list of lists (with some dictionaries inside) created in the scrape and turn it into one flat list.\n",
    "\n",
    "This allows me to turn it into a dataframe and then into a csv file."
   ]
  },
  {
   "cell_type": "code",
   "execution_count": null,
   "metadata": {},
   "outputs": [],
   "source": [
    "flat_list = []\n",
    "for ids in pattern_ids:\n",
    "    for id in ids:\n",
    "        flat_list.append(id)\n",
    "\n",
    "id_df = pd.DataFrame(flat_list)"
   ]
  },
  {
   "cell_type": "code",
   "execution_count": null,
   "metadata": {},
   "outputs": [],
   "source": [
    "id_df.to_csv(\"data/patterns.csv\", index=False)"
   ]
  },
  {
   "cell_type": "markdown",
   "metadata": {},
   "source": [
    "## Get information on the patterns"
   ]
  },
  {
   "cell_type": "code",
   "execution_count": null,
   "metadata": {},
   "outputs": [],
   "source": [
    "df = pd.read_csv(\"data/patterns.csv\")"
   ]
  },
  {
   "cell_type": "code",
   "execution_count": null,
   "metadata": {},
   "outputs": [],
   "source": [
    "url_list = df.url.values.tolist()"
   ]
  },
  {
   "cell_type": "code",
   "execution_count": null,
   "metadata": {},
   "outputs": [],
   "source": [
    "project_numbers = []\n",
    "\n",
    "for url in url_list:\n",
    "    await page.goto(url)\n",
    "\n",
    "    time.sleep(0.5)\n",
    "\n",
    "    project = {}\n",
    "\n",
    "    html = await page.content()\n",
    "    doc = BeautifulSoup(html)\n",
    "\n",
    "    type = doc.find_all(class_='value')\n",
    "    type = type[1].text\n",
    "    type = re.sub(r'\\n', '', type)\n",
    "\n",
    "    project['craft_type'] = type\n",
    "    \n",
    "    projects = doc.find(class_= \"pattern_people summary_box_people\").text\n",
    "    # replace \\n\\n\\n with nothing\n",
    "    projects = re.sub(r'\\n\\n\\n', '', projects)\n",
    "    project['project_numbers'] = re.sub(r' projec\\D*,\\nin \\d* queues\\n\\n', '', projects)\n",
    "    \n",
    "    project_numbers.append(project)\n",
    "await browser.close()"
   ]
  },
  {
   "cell_type": "code",
   "execution_count": null,
   "metadata": {},
   "outputs": [],
   "source": [
    "df = pd.DataFrame(project_numbers)\n",
    "df.to_csv(\"data/patterns_info.csv\", index=False)"
   ]
  },
  {
   "cell_type": "code",
   "execution_count": null,
   "metadata": {},
   "outputs": [],
   "source": [
    "patterns = pd.read_csv(\"data/patterns.csv\")\n",
    "patterns_info = pd.read_csv(\"data/patterns_info.csv\")"
   ]
  },
  {
   "cell_type": "code",
   "execution_count": null,
   "metadata": {},
   "outputs": [],
   "source": [
    "# Merge the two dataframes using concat\n",
    "total = pd.concat([patterns, patterns_info], axis=1)\n",
    "\n",
    "# Give the recipe with no projects the value 0\n",
    "total = total.replace(regex=r'no projects\\n', value=0)"
   ]
  },
  {
   "cell_type": "code",
   "execution_count": null,
   "metadata": {},
   "outputs": [],
   "source": [
    "# And save it as a csv\n",
    "total.to_csv(\"data/patterns_total.csv\", index=False)"
   ]
  }
 ],
 "metadata": {
  "kernelspec": {
   "display_name": "Python 3.11.0rc2 64-bit ('3.11.0rc2')",
   "language": "python",
   "name": "python3"
  },
  "language_info": {
   "codemirror_mode": {
    "name": "ipython",
    "version": 3
   },
   "file_extension": ".py",
   "mimetype": "text/x-python",
   "name": "python",
   "nbconvert_exporter": "python",
   "pygments_lexer": "ipython3",
   "version": "3.11.0"
  },
  "orig_nbformat": 4,
  "vscode": {
   "interpreter": {
    "hash": "fa07e5dff76123542c28abca75c0e47ea742948dbeeb360ccfbd2a5c7c277f8b"
   }
  }
 },
 "nbformat": 4,
 "nbformat_minor": 2
}
