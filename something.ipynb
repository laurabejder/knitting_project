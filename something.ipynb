{
 "cells": [
  {
   "cell_type": "markdown",
   "metadata": {},
   "source": [
    "## PURPOSE OF THE NOTEBOOK + TITLE OF THE PROJECT"
   ]
  },
  {
   "cell_type": "code",
   "execution_count": null,
   "metadata": {},
   "outputs": [],
   "source": [
    "import requests\n",
    "from requests.adapters import HTTPAdapter\n",
    "import json\n",
    "\n",
    "import pandas as pd\n",
    "from datetime import date\n",
    "from bs4 import BeautifulSoup\n",
    "from playwright.async_api import async_playwright\n",
    "import time\n",
    "import numpy as np\n",
    "import re"
   ]
  },
  {
   "cell_type": "markdown",
   "metadata": {},
   "source": []
  },
  {
   "cell_type": "code",
   "execution_count": null,
   "metadata": {},
   "outputs": [],
   "source": [
    "links = ['https://www.ravelry.com/patterns/search#pc=medical&sort=name&view=captioned_thumbs&page=1','https://www.ravelry.com/patterns/search#pc=medical&sort=name&view=captioned_thumbs&page=2','https://www.ravelry.com/patterns/search#pc=medical&sort=name&view=captioned_thumbs&page=3','https://www.ravelry.com/patterns/search#pc=medical&sort=name&view=captioned_thumbs&page=4']"
   ]
  },
  {
   "cell_type": "markdown",
   "metadata": {},
   "source": [
    "### Get the ID's of all the recipes in the medical knitting recipe category"
   ]
  },
  {
   "cell_type": "code",
   "execution_count": null,
   "metadata": {},
   "outputs": [],
   "source": [
    "playwright = await async_playwright().start()\n",
    "browser = await playwright.chromium.launch(headless = False)\n",
    "page = await browser.new_page()\n",
    "\n",
    "url = links[0]\n",
    "await page.goto(url)\n",
    "\n",
    "\n",
    "await page.locator(\"#user_login\").fill('xxxxx')\n",
    "await page.locator(\"#user_password\").fill('xxxxx')\n",
    "await page.locator(\"#login_form > div.splash_page__submit > div.splash_page__submit__login > button\").click()\n",
    "\n",
    "time.sleep(5)\n",
    "\n",
    "pattern_ids = []\n",
    "\n",
    "# Scrape each of the four pages:\n",
    "for link in links:\n",
    "    await page.goto(link)\n",
    "    time.sleep(5)\n",
    "    html = await page.content()\n",
    "    doc = BeautifulSoup(html)\n",
    "\n",
    "    content_card = doc.find_all(class_= \"pattern captioned_pattern captioned_search_result\")\n",
    "\n",
    "    pattern_id = []\n",
    "\n",
    "    # Loop through each pattern on the page and get the information:\n",
    "    for card in content_card:\n",
    "        pattern = {}\n",
    "        pattern['name'] = card.find('a').get('title')\n",
    "        pattern['url'] = card.find('a').get('href')\n",
    "\n",
    "        find_id = card.get('id')\n",
    "        pattern['id'] = re.findall(r'\\d+', find_id)[0]\n",
    "        #find_id = card.get('id')\n",
    "        #id = re.findall(r'\\d+', find_id)[0]\n",
    "        pattern_id.append(pattern)\n",
    "    pattern_ids.append(pattern_id)"
   ]
  },
  {
   "cell_type": "markdown",
   "metadata": {},
   "source": [
    "### And take the list of lists (with some dictionaries inside) created in the scrape and turn it into one flat list.\n",
    "\n",
    "This allows me to turn it into a dataframe and then into a csv file."
   ]
  },
  {
   "cell_type": "code",
   "execution_count": null,
   "metadata": {},
   "outputs": [],
   "source": [
    "flat_list = []\n",
    "for ids in pattern_ids:\n",
    "    for id in ids:\n",
    "        flat_list.append(id)\n",
    "\n",
    "id_df = pd.DataFrame(flat_list)\n",
    "id_df"
   ]
  },
  {
   "cell_type": "code",
   "execution_count": null,
   "metadata": {},
   "outputs": [],
   "source": [
    "id_df.to_csv(\"data/patterns.csv\", index=False)"
   ]
  },
  {
   "cell_type": "code",
   "execution_count": null,
   "metadata": {},
   "outputs": [],
   "source": [
    "df = pd.read_csv(\"data/patterns.csv\")"
   ]
  },
  {
   "cell_type": "code",
   "execution_count": null,
   "metadata": {},
   "outputs": [],
   "source": [
    "id_list = df.id.values.tolist()\n"
   ]
  },
  {
   "cell_type": "code",
   "execution_count": null,
   "metadata": {},
   "outputs": [],
   "source": [
    "url_list = df.url.values.tolist()\n",
    "url_list"
   ]
  },
  {
   "cell_type": "code",
   "execution_count": null,
   "metadata": {},
   "outputs": [],
   "source": [
    "project_numbers = []\n",
    "\n",
    "for url in url_list:\n",
    "    await page.goto(url)\n",
    "\n",
    "    time.sleep(0.5)\n",
    "\n",
    "    project = {}\n",
    "\n",
    "    html = await page.content()\n",
    "    doc = BeautifulSoup(html)\n",
    "\n",
    "    type = doc.find_all(class_='value')\n",
    "    type = type[1].text\n",
    "    type = re.sub(r'\\n', '', type)\n",
    "\n",
    "    project['craft_type'] = type\n",
    "    \n",
    "    projects = doc.find(class_= \"pattern_people summary_box_people\").text\n",
    "    # replace \\n\\n\\n with nothing\n",
    "    projects = re.sub(r'\\n\\n\\n', '', projects)\n",
    "    project['project_numbers'] = re.sub(r' projec\\D*,\\nin \\d* queues\\n\\n', '', projects)\n",
    "    \n",
    "    project_numbers.append(project)\n",
    "await browser.close()"
   ]
  },
  {
   "cell_type": "code",
   "execution_count": null,
   "metadata": {},
   "outputs": [],
   "source": [
    "df = pd.DataFrame(project_numbers)\n",
    "df.to_csv(\"data/patterns_info.csv\", index=False)"
   ]
  },
  {
   "cell_type": "markdown",
   "metadata": {},
   "source": [
    "Use the Ravelry API to get information about projects that uses each of the recipes in the medical knitting recipe category."
   ]
  },
  {
   "cell_type": "code",
   "execution_count": null,
   "metadata": {},
   "outputs": [],
   "source": [
    "pattern_info = []\n",
    "for id in col_list:\n",
    "    api_key_id = 'xxxxxx'\n",
    "    api_key_secret = 'xxxxxx'\n",
    "    headers = {'Content-Type': 'application/json'}\n",
    "    auth = (api_key_id, api_key_secret)\n",
    "    newSession = requests.Session()\n",
    "    link = f\"https://api.ravelry.com/patterns/{id}/projects.json\"\n",
    "    response = newSession.post('https://api.ravelry.com/patterns/80882/projects.json',auth=auth,headers=headers,verify=False) \n",
    "    print(response.status_code)\n",
    "    data = response.json()\n",
    "    pattern_info.append(data)"
   ]
  },
  {
   "cell_type": "code",
   "execution_count": null,
   "metadata": {},
   "outputs": [],
   "source": [
    "pattern_info"
   ]
  },
  {
   "cell_type": "code",
   "execution_count": null,
   "metadata": {},
   "outputs": [],
   "source": [
    "\n",
    "api_key_id = 'f5a6ec6d351e27877181d3b82cf96c4b'\n",
    "api_key_secret = 'CC-gqxAxnUUfnZvAEImpCNMhX3zQoLzQYu1wIjC-'\n",
    "headers = {'Content-Type': 'application/json'}\n",
    "auth = (api_key_id, api_key_secret)\n",
    "newSession = requests.Session()\n",
    "response = newSession.post('https://api.ravelry.com/patterns/search.json?category=medical',auth=auth,headers=headers,verify=False) \n",
    "print(response.status_code)"
   ]
  },
  {
   "cell_type": "code",
   "execution_count": null,
   "metadata": {},
   "outputs": [],
   "source": [
    "data = response.json()\n",
    "data\n"
   ]
  },
  {
   "cell_type": "code",
   "execution_count": null,
   "metadata": {},
   "outputs": [],
   "source": [
    "\n",
    "api_key_id = 'f5a6ec6d351e27877181d3b82cf96c4b'\n",
    "api_key_secret = 'CC-gqxAxnUUfnZvAEImpCNMhX3zQoLzQYu1wIjC-'\n",
    "headers = {'Content-Type': 'application/json'}\n",
    "auth = (api_key_id, api_key_secret)\n",
    "newSession = requests.Session()\n",
    "response = newSession.post('https://api.ravelry.com/patterns/503114/projects.json?page_size=5000',auth=auth,headers=headers,verify=False) \n",
    "print(response.status_code)\n",
    "pattern_data = response.json()\n",
    "len(pattern_data['projects'])\n"
   ]
  },
  {
   "cell_type": "code",
   "execution_count": null,
   "metadata": {},
   "outputs": [],
   "source": [
    "# CREATE A LOOP THAT LOOPS THROUGH ALL THE PATTERNS AND GET THE THE NUMBER OF PROJECTS FOR EACH PATTERN\n",
    "\n"
   ]
  }
 ],
 "metadata": {
  "kernelspec": {
   "display_name": "Python 3.11.0rc2 64-bit ('3.11.0rc2')",
   "language": "python",
   "name": "python3"
  },
  "language_info": {
   "codemirror_mode": {
    "name": "ipython",
    "version": 3
   },
   "file_extension": ".py",
   "mimetype": "text/x-python",
   "name": "python",
   "nbconvert_exporter": "python",
   "pygments_lexer": "ipython3",
   "version": "3.11.0rc2"
  },
  "orig_nbformat": 4,
  "vscode": {
   "interpreter": {
    "hash": "fa07e5dff76123542c28abca75c0e47ea742948dbeeb360ccfbd2a5c7c277f8b"
   }
  }
 },
 "nbformat": 4,
 "nbformat_minor": 2
}
