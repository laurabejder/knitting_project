{
 "cells": [
  {
   "cell_type": "markdown",
   "metadata": {},
   "source": [
    "## PURPOSE OF THE NOTEBOOK + TITLE OF THE PROJECT"
   ]
  },
  {
   "cell_type": "code",
   "execution_count": 2,
   "metadata": {},
   "outputs": [],
   "source": [
    "import requests\n",
    "from requests.adapters import HTTPAdapter\n",
    "import json\n",
    "\n",
    "import pandas as pd\n",
    "from datetime import date\n",
    "from bs4 import BeautifulSoup\n",
    "from playwright.async_api import async_playwright\n",
    "import time\n",
    "import numpy as np\n",
    "import re"
   ]
  },
  {
   "cell_type": "markdown",
   "metadata": {},
   "source": []
  },
  {
   "cell_type": "code",
   "execution_count": null,
   "metadata": {},
   "outputs": [],
   "source": [
    "links = ['https://www.ravelry.com/patterns/search#pc=medical&sort=name&view=captioned_thumbs&page=1','https://www.ravelry.com/patterns/search#pc=medical&sort=name&view=captioned_thumbs&page=2','https://www.ravelry.com/patterns/search#pc=medical&sort=name&view=captioned_thumbs&page=3','https://www.ravelry.com/patterns/search#pc=medical&sort=name&view=captioned_thumbs&page=4']"
   ]
  },
  {
   "cell_type": "markdown",
   "metadata": {},
   "source": [
    "### Get the ID's of all the recipes in the medical knitting recipe category"
   ]
  },
  {
   "cell_type": "code",
   "execution_count": null,
   "metadata": {},
   "outputs": [],
   "source": [
    "playwright = await async_playwright().start()\n",
    "browser = await playwright.chromium.launch(headless = False)\n",
    "page = await browser.new_page()\n",
    "\n",
    "url = links[0]\n",
    "await page.goto(url)\n",
    "\n",
    "# Use playwright to login to the site. The xxxxx replace the username and password:\n",
    "await page.locator(\"#user_login\").fill('xxxxx')\n",
    "await page.locator(\"#user_password\").fill('xxxxx')\n",
    "await page.locator(\"#login_form > div.splash_page__submit > div.splash_page__submit__login > button\").click()\n",
    "\n",
    "time.sleep(5)\n",
    "\n",
    "pattern_ids = []\n",
    "\n",
    "# Scrape each of the four pages:\n",
    "for link in links:\n",
    "    await page.goto(link)\n",
    "    time.sleep(5)\n",
    "    html = await page.content()\n",
    "    doc = BeautifulSoup(html)\n",
    "\n",
    "    content_card = doc.find_all(class_= \"pattern captioned_pattern captioned_search_result\")\n",
    "\n",
    "    pattern_id = []\n",
    "\n",
    "    # Loop through each pattern on the page and get the information:\n",
    "    for card in content_card:\n",
    "        pattern = {}\n",
    "        pattern['name'] = card.find('a').get('title')\n",
    "        pattern['url'] = card.find('a').get('href')\n",
    "\n",
    "        find_id = card.get('id')\n",
    "        pattern['id'] = re.findall(r'\\d+', find_id)[0]\n",
    "\n",
    "        # And append the pattern data to the list:\n",
    "        pattern_id.append(pattern)\n",
    "    pattern_ids.append(pattern_id)"
   ]
  },
  {
   "cell_type": "markdown",
   "metadata": {},
   "source": [
    "### And take the list of lists (with some dictionaries inside) created in the scrape and turn it into one flat list.\n",
    "\n",
    "This allows me to turn it into a dataframe and then into a csv file."
   ]
  },
  {
   "cell_type": "code",
   "execution_count": null,
   "metadata": {},
   "outputs": [],
   "source": [
    "flat_list = []\n",
    "for ids in pattern_ids:\n",
    "    for id in ids:\n",
    "        flat_list.append(id)\n",
    "\n",
    "id_df = pd.DataFrame(flat_list)"
   ]
  },
  {
   "cell_type": "code",
   "execution_count": null,
   "metadata": {},
   "outputs": [],
   "source": [
    "id_df.to_csv(\"data/patterns.csv\", index=False)"
   ]
  },
  {
   "cell_type": "markdown",
   "metadata": {},
   "source": [
    "## Get information on the patterns"
   ]
  },
  {
   "cell_type": "code",
   "execution_count": null,
   "metadata": {},
   "outputs": [],
   "source": [
    "df = pd.read_csv(\"data/patterns.csv\")"
   ]
  },
  {
   "cell_type": "code",
   "execution_count": null,
   "metadata": {},
   "outputs": [],
   "source": [
    "url_list = df.url.values.tolist()"
   ]
  },
  {
   "cell_type": "code",
   "execution_count": null,
   "metadata": {},
   "outputs": [],
   "source": [
    "project_numbers = []\n",
    "\n",
    "for url in url_list:\n",
    "    await page.goto(url)\n",
    "\n",
    "    time.sleep(0.5)\n",
    "\n",
    "    project = {}\n",
    "\n",
    "    html = await page.content()\n",
    "    doc = BeautifulSoup(html)\n",
    "\n",
    "    type = doc.find_all(class_='value')\n",
    "    type = type[1].text\n",
    "    type = re.sub(r'\\n', '', type)\n",
    "\n",
    "    project['craft_type'] = type\n",
    "    \n",
    "    projects = doc.find(class_= \"pattern_people summary_box_people\").text\n",
    "    # replace \\n\\n\\n with nothing\n",
    "    projects = re.sub(r'\\n\\n\\n', '', projects)\n",
    "    project['project_numbers'] = re.sub(r' projec\\D*,\\nin \\d* queues\\n\\n', '', projects)\n",
    "    \n",
    "    project_numbers.append(project)\n",
    "await browser.close()"
   ]
  },
  {
   "cell_type": "code",
   "execution_count": null,
   "metadata": {},
   "outputs": [],
   "source": [
    "df = pd.DataFrame(project_numbers)\n",
    "df.to_csv(\"data/patterns_info.csv\", index=False)"
   ]
  },
  {
   "cell_type": "markdown",
   "metadata": {},
   "source": [
    "## WHAT IS HAPPENING HERE"
   ]
  },
  {
   "cell_type": "code",
   "execution_count": null,
   "metadata": {},
   "outputs": [],
   "source": [
    "patterns = pd.read_csv(\"data/patterns.csv\")\n",
    "patterns_info = pd.read_csv(\"data/patterns_info.csv\")"
   ]
  },
  {
   "cell_type": "code",
   "execution_count": null,
   "metadata": {},
   "outputs": [],
   "source": [
    "# Merge the two dataframes using concat\n",
    "total = pd.concat([patterns, patterns_info], axis=1)\n",
    "\n",
    "# Give the recipe with no projects the value 0\n",
    "total = total.replace(regex=r'no projects\\n', value=0)"
   ]
  },
  {
   "cell_type": "code",
   "execution_count": null,
   "metadata": {},
   "outputs": [],
   "source": [
    "# And save it as a csv\n",
    "total.to_csv(\"data/patterns_total.csv\", index=False)"
   ]
  },
  {
   "cell_type": "markdown",
   "metadata": {},
   "source": [
    "For the next part I have to manually categorize the recipes."
   ]
  },
  {
   "cell_type": "code",
   "execution_count": 5,
   "metadata": {},
   "outputs": [
    {
     "data": {
      "text/html": [
       "<div>\n",
       "<style scoped>\n",
       "    .dataframe tbody tr th:only-of-type {\n",
       "        vertical-align: middle;\n",
       "    }\n",
       "\n",
       "    .dataframe tbody tr th {\n",
       "        vertical-align: top;\n",
       "    }\n",
       "\n",
       "    .dataframe thead th {\n",
       "        text-align: right;\n",
       "    }\n",
       "</style>\n",
       "<table border=\"1\" class=\"dataframe\">\n",
       "  <thead>\n",
       "    <tr style=\"text-align: right;\">\n",
       "      <th></th>\n",
       "      <th>name</th>\n",
       "      <th>url</th>\n",
       "      <th>id</th>\n",
       "      <th>craft_type</th>\n",
       "      <th>project_numbers</th>\n",
       "      <th>Category</th>\n",
       "    </tr>\n",
       "  </thead>\n",
       "  <tbody>\n",
       "    <tr>\n",
       "      <th>0</th>\n",
       "      <td>\"Hey, at Least It Wasn't Your Leg\" Arm Sling b...</td>\n",
       "      <td>https://www.ravelry.com/patterns/library/hey-a...</td>\n",
       "      <td>80882</td>\n",
       "      <td>Knitting</td>\n",
       "      <td>5</td>\n",
       "      <td>injury</td>\n",
       "    </tr>\n",
       "    <tr>\n",
       "      <th>1</th>\n",
       "      <td>\"Kitty\" Eye Patch by Christine H. Wilkins</td>\n",
       "      <td>https://www.ravelry.com/patterns/library/kitty...</td>\n",
       "      <td>118789</td>\n",
       "      <td>Knitting</td>\n",
       "      <td>5</td>\n",
       "      <td>injury</td>\n",
       "    </tr>\n",
       "    <tr>\n",
       "      <th>2</th>\n",
       "      <td>Alternative ML Knitted Knockers by Makoshark</td>\n",
       "      <td>https://www.ravelry.com/patterns/library/alter...</td>\n",
       "      <td>951015</td>\n",
       "      <td>Knitting</td>\n",
       "      <td>4</td>\n",
       "      <td>knockers</td>\n",
       "    </tr>\n",
       "    <tr>\n",
       "      <th>3</th>\n",
       "      <td>Amon ammeinnlegg by Anne Tvedt</td>\n",
       "      <td>https://www.ravelry.com/patterns/library/amon-...</td>\n",
       "      <td>807316</td>\n",
       "      <td>Knitting</td>\n",
       "      <td>0</td>\n",
       "      <td>maternity</td>\n",
       "    </tr>\n",
       "    <tr>\n",
       "      <th>4</th>\n",
       "      <td>Amputee's Stump Covers by Suzetta Williams</td>\n",
       "      <td>https://www.ravelry.com/patterns/library/amput...</td>\n",
       "      <td>287776</td>\n",
       "      <td>Crochet</td>\n",
       "      <td>12</td>\n",
       "      <td>amputee</td>\n",
       "    </tr>\n",
       "    <tr>\n",
       "      <th>...</th>\n",
       "      <td>...</td>\n",
       "      <td>...</td>\n",
       "      <td>...</td>\n",
       "      <td>...</td>\n",
       "      <td>...</td>\n",
       "      <td>...</td>\n",
       "    </tr>\n",
       "    <tr>\n",
       "      <th>165</th>\n",
       "      <td>Woolly Boob by Kathryn Cottam</td>\n",
       "      <td>https://www.ravelry.com/patterns/library/wooll...</td>\n",
       "      <td>639320</td>\n",
       "      <td>Crochet</td>\n",
       "      <td>1</td>\n",
       "      <td>maternity</td>\n",
       "    </tr>\n",
       "    <tr>\n",
       "      <th>166</th>\n",
       "      <td>Worry Bear by Joanne Seiff</td>\n",
       "      <td>https://www.ravelry.com/patterns/library/worry...</td>\n",
       "      <td>908676</td>\n",
       "      <td>Knitting</td>\n",
       "      <td>3</td>\n",
       "      <td>mental_psycological</td>\n",
       "    </tr>\n",
       "    <tr>\n",
       "      <th>167</th>\n",
       "      <td>Wrapped in Lace PICC Line Cover by Kirsten Hol...</td>\n",
       "      <td>https://www.ravelry.com/patterns/library/wrapp...</td>\n",
       "      <td>749754</td>\n",
       "      <td>Crochet</td>\n",
       "      <td>9</td>\n",
       "      <td>cannula_iv</td>\n",
       "    </tr>\n",
       "    <tr>\n",
       "      <th>168</th>\n",
       "      <td>Wrist rest by Lynne Rowe</td>\n",
       "      <td>https://www.ravelry.com/patterns/library/wrist...</td>\n",
       "      <td>464528</td>\n",
       "      <td>Knitting</td>\n",
       "      <td>3</td>\n",
       "      <td>pain_relief</td>\n",
       "    </tr>\n",
       "    <tr>\n",
       "      <th>169</th>\n",
       "      <td>Yiho by Rebecca Sköld</td>\n",
       "      <td>https://www.ravelry.com/patterns/library/yiho</td>\n",
       "      <td>1289914</td>\n",
       "      <td>Knitting</td>\n",
       "      <td>0</td>\n",
       "      <td>na</td>\n",
       "    </tr>\n",
       "  </tbody>\n",
       "</table>\n",
       "<p>170 rows × 6 columns</p>\n",
       "</div>"
      ],
      "text/plain": [
       "                                                  name  \\\n",
       "0    \"Hey, at Least It Wasn't Your Leg\" Arm Sling b...   \n",
       "1            \"Kitty\" Eye Patch by Christine H. Wilkins   \n",
       "2         Alternative ML Knitted Knockers by Makoshark   \n",
       "3                       Amon ammeinnlegg by Anne Tvedt   \n",
       "4           Amputee's Stump Covers by Suzetta Williams   \n",
       "..                                                 ...   \n",
       "165                      Woolly Boob by Kathryn Cottam   \n",
       "166                         Worry Bear by Joanne Seiff   \n",
       "167  Wrapped in Lace PICC Line Cover by Kirsten Hol...   \n",
       "168                           Wrist rest by Lynne Rowe   \n",
       "169                              Yiho by Rebecca Sköld   \n",
       "\n",
       "                                                   url       id craft_type  \\\n",
       "0    https://www.ravelry.com/patterns/library/hey-a...    80882   Knitting   \n",
       "1    https://www.ravelry.com/patterns/library/kitty...   118789   Knitting   \n",
       "2    https://www.ravelry.com/patterns/library/alter...   951015   Knitting   \n",
       "3    https://www.ravelry.com/patterns/library/amon-...   807316   Knitting   \n",
       "4    https://www.ravelry.com/patterns/library/amput...   287776    Crochet   \n",
       "..                                                 ...      ...        ...   \n",
       "165  https://www.ravelry.com/patterns/library/wooll...   639320    Crochet   \n",
       "166  https://www.ravelry.com/patterns/library/worry...   908676   Knitting   \n",
       "167  https://www.ravelry.com/patterns/library/wrapp...   749754    Crochet   \n",
       "168  https://www.ravelry.com/patterns/library/wrist...   464528   Knitting   \n",
       "169      https://www.ravelry.com/patterns/library/yiho  1289914   Knitting   \n",
       "\n",
       "     project_numbers             Category  \n",
       "0                  5               injury  \n",
       "1                  5               injury  \n",
       "2                  4             knockers  \n",
       "3                  0            maternity  \n",
       "4                 12              amputee  \n",
       "..               ...                  ...  \n",
       "165                1            maternity  \n",
       "166                3  mental_psycological  \n",
       "167                9           cannula_iv  \n",
       "168                3          pain_relief  \n",
       "169                0                   na  \n",
       "\n",
       "[170 rows x 6 columns]"
      ]
     },
     "execution_count": 5,
     "metadata": {},
     "output_type": "execute_result"
    }
   ],
   "source": [
    "df = pd.read_csv(\"data/patterns_total_categorized.csv\")"
   ]
  },
  {
   "cell_type": "markdown",
   "metadata": {},
   "source": [
    "What is the most popular category?"
   ]
  },
  {
   "cell_type": "code",
   "execution_count": 26,
   "metadata": {},
   "outputs": [
    {
     "data": {
      "text/html": [
       "<div>\n",
       "<style scoped>\n",
       "    .dataframe tbody tr th:only-of-type {\n",
       "        vertical-align: middle;\n",
       "    }\n",
       "\n",
       "    .dataframe tbody tr th {\n",
       "        vertical-align: top;\n",
       "    }\n",
       "\n",
       "    .dataframe thead th {\n",
       "        text-align: right;\n",
       "    }\n",
       "</style>\n",
       "<table border=\"1\" class=\"dataframe\">\n",
       "  <thead>\n",
       "    <tr style=\"text-align: right;\">\n",
       "      <th></th>\n",
       "      <th>Category</th>\n",
       "      <th>project_numbers</th>\n",
       "    </tr>\n",
       "  </thead>\n",
       "  <tbody>\n",
       "    <tr>\n",
       "      <th>6</th>\n",
       "      <td>knockers</td>\n",
       "      <td>4744</td>\n",
       "    </tr>\n",
       "    <tr>\n",
       "      <th>4</th>\n",
       "      <td>heating_cooling</td>\n",
       "      <td>261</td>\n",
       "    </tr>\n",
       "    <tr>\n",
       "      <th>5</th>\n",
       "      <td>injury</td>\n",
       "      <td>252</td>\n",
       "    </tr>\n",
       "    <tr>\n",
       "      <th>8</th>\n",
       "      <td>menstruation</td>\n",
       "      <td>196</td>\n",
       "    </tr>\n",
       "    <tr>\n",
       "      <th>1</th>\n",
       "      <td>cannula_iv</td>\n",
       "      <td>58</td>\n",
       "    </tr>\n",
       "  </tbody>\n",
       "</table>\n",
       "</div>"
      ],
      "text/plain": [
       "          Category  project_numbers\n",
       "6         knockers             4744\n",
       "4  heating_cooling              261\n",
       "5           injury              252\n",
       "8     menstruation              196\n",
       "1       cannula_iv               58"
      ]
     },
     "execution_count": 26,
     "metadata": {},
     "output_type": "execute_result"
    }
   ],
   "source": [
    "categories = df.groupby('Category').agg({'project_numbers':'sum'}).reset_index().sort_values(by='project_numbers', ascending=False)\n",
    "categories.drop(categories[categories['Category'] == 'na'].index, inplace = True)\n",
    "\n",
    "categories = categories.head(5)\n",
    "categories"
   ]
  },
  {
   "cell_type": "code",
   "execution_count": 25,
   "metadata": {},
   "outputs": [],
   "source": [
    "categories.to_csv(\"data/categories.csv\", index=False)"
   ]
  },
  {
   "cell_type": "markdown",
   "metadata": {},
   "source": [
    "Are knockers most often knitted or croched?"
   ]
  },
  {
   "cell_type": "code",
   "execution_count": 13,
   "metadata": {},
   "outputs": [],
   "source": [
    "knockers = df[df['Category'] == 'knockers']\n",
    "knockers_grouped = knockers.groupby('craft_type').agg({'project_numbers':'sum'}).reset_index().sort_values(by='project_numbers', ascending=False)"
   ]
  },
  {
   "cell_type": "code",
   "execution_count": 33,
   "metadata": {},
   "outputs": [
    {
     "data": {
      "text/html": [
       "<div>\n",
       "<style scoped>\n",
       "    .dataframe tbody tr th:only-of-type {\n",
       "        vertical-align: middle;\n",
       "    }\n",
       "\n",
       "    .dataframe tbody tr th {\n",
       "        vertical-align: top;\n",
       "    }\n",
       "\n",
       "    .dataframe thead th {\n",
       "        text-align: right;\n",
       "    }\n",
       "</style>\n",
       "<table border=\"1\" class=\"dataframe\">\n",
       "  <thead>\n",
       "    <tr style=\"text-align: right;\">\n",
       "      <th></th>\n",
       "      <th>craft_type</th>\n",
       "      <th>project_numbers</th>\n",
       "      <th>percent</th>\n",
       "    </tr>\n",
       "  </thead>\n",
       "  <tbody>\n",
       "    <tr>\n",
       "      <th>1</th>\n",
       "      <td>Knitting</td>\n",
       "      <td>4441</td>\n",
       "      <td>94.0</td>\n",
       "    </tr>\n",
       "    <tr>\n",
       "      <th>0</th>\n",
       "      <td>Crochet</td>\n",
       "      <td>301</td>\n",
       "      <td>6.0</td>\n",
       "    </tr>\n",
       "    <tr>\n",
       "      <th>2</th>\n",
       "      <td>Loom Knitting</td>\n",
       "      <td>2</td>\n",
       "      <td>0.0</td>\n",
       "    </tr>\n",
       "  </tbody>\n",
       "</table>\n",
       "</div>"
      ],
      "text/plain": [
       "      craft_type  project_numbers  percent\n",
       "1       Knitting             4441     94.0\n",
       "0        Crochet              301      6.0\n",
       "2  Loom Knitting                2      0.0"
      ]
     },
     "execution_count": 33,
     "metadata": {},
     "output_type": "execute_result"
    }
   ],
   "source": [
    "knockers_grouped['percent'] = knockers_grouped.project_numbers / knockers_grouped.project_numbers.sum() * 100\n",
    "knockers_grouped = knockers_grouped.round(0)\n",
    "knockers_grouped"
   ]
  },
  {
   "cell_type": "code",
   "execution_count": 32,
   "metadata": {},
   "outputs": [],
   "source": [
    "knockers_grouped.to_csv(\"data/knockers_grouped.csv\", index=False)"
   ]
  },
  {
   "cell_type": "markdown",
   "metadata": {},
   "source": [
    "Use the Ravelry API to get information about projects that uses each of the recipes in the medical knitting recipe category."
   ]
  },
  {
   "cell_type": "code",
   "execution_count": null,
   "metadata": {},
   "outputs": [],
   "source": [
    "pattern_info = []\n",
    "for id in col_list:\n",
    "    api_key_id = 'xxxxxx'\n",
    "    api_key_secret = 'xxxxxx'\n",
    "    headers = {'Content-Type': 'application/json'}\n",
    "    auth = (api_key_id, api_key_secret)\n",
    "    newSession = requests.Session()\n",
    "    link = f\"https://api.ravelry.com/patterns/{id}/projects.json\"\n",
    "    response = newSession.post('https://api.ravelry.com/patterns/80882/projects.json',auth=auth,headers=headers,verify=False) \n",
    "    print(response.status_code)\n",
    "    data = response.json()\n",
    "    pattern_info.append(data)"
   ]
  },
  {
   "cell_type": "code",
   "execution_count": null,
   "metadata": {},
   "outputs": [],
   "source": [
    "api_key_id = 'xxxxxx'\n",
    "api_key_secret = 'xxxxxx'\n",
    "headers = {'Content-Type': 'application/json'}\n",
    "auth = (api_key_id, api_key_secret)\n",
    "newSession = requests.Session()\n",
    "response = newSession.post('https://api.ravelry.com/patterns/search.json?category=medical',auth=auth,headers=headers,verify=False) \n",
    "print(response.status_code)"
   ]
  },
  {
   "cell_type": "code",
   "execution_count": null,
   "metadata": {},
   "outputs": [],
   "source": [
    "data = response.json()"
   ]
  },
  {
   "cell_type": "code",
   "execution_count": null,
   "metadata": {},
   "outputs": [],
   "source": [
    "\n",
    "api_key_id = 'xxxxxx'\n",
    "api_key_secret = 'xxxxxx'\n",
    "headers = {'Content-Type': 'application/json'}\n",
    "auth = (api_key_id, api_key_secret)\n",
    "newSession = requests.Session()\n",
    "response = newSession.post('https://api.ravelry.com/patterns/503114/projects.json?page_size=5000',auth=auth,headers=headers,verify=False) \n",
    "print(response.status_code)\n",
    "pattern_data = response.json()\n",
    "len(pattern_data['projects'])\n"
   ]
  }
 ],
 "metadata": {
  "kernelspec": {
   "display_name": "Python 3.11.0rc2 64-bit ('3.11.0rc2')",
   "language": "python",
   "name": "python3"
  },
  "language_info": {
   "codemirror_mode": {
    "name": "ipython",
    "version": 3
   },
   "file_extension": ".py",
   "mimetype": "text/x-python",
   "name": "python",
   "nbconvert_exporter": "python",
   "pygments_lexer": "ipython3",
   "version": "3.11.0rc2"
  },
  "orig_nbformat": 4,
  "vscode": {
   "interpreter": {
    "hash": "fa07e5dff76123542c28abca75c0e47ea742948dbeeb360ccfbd2a5c7c277f8b"
   }
  }
 },
 "nbformat": 4,
 "nbformat_minor": 2
}
